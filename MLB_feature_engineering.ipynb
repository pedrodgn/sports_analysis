{
 "cells": [
  {
   "cell_type": "code",
   "execution_count": 106,
   "id": "dfed0756",
   "metadata": {},
   "outputs": [],
   "source": [
    "import pandas as pd"
   ]
  },
  {
   "cell_type": "code",
   "execution_count": 107,
   "id": "8307b1d8",
   "metadata": {},
   "outputs": [],
   "source": [
    "data_dir = \"./datasets/\""
   ]
  },
  {
   "cell_type": "code",
   "execution_count": 108,
   "id": "d73f80fe",
   "metadata": {},
   "outputs": [],
   "source": [
    "pitchDF = pd.read_csv(data_dir+\"pitchDF.csv\")\n",
    "pitchDF['game_date'] = pd.to_datetime(pitchDF['game_date'])\n"
   ]
  },
  {
   "cell_type": "code",
   "execution_count": 109,
   "id": "284050ae",
   "metadata": {},
   "outputs": [],
   "source": [
    "mlb_batting_dataframe = pd.read_csv(data_dir+'mlb_batting_dataframe.csv').rename(columns={\"personId\":\"player_id\"})\n",
    "mlb_batting_dataframe['game_date'] = pd.to_datetime(mlb_batting_dataframe['game_date'])\n",
    "mlb_batting_dataframe = mlb_batting_dataframe[mlb_batting_dataframe['namefield'].str.contains('\\d ')]\n",
    "\n",
    "mlb_pitching_dataframe = pd.read_csv(data_dir+'mlb_pitching_dataframe.csv').rename(columns={\"personId\":\"player_id\"})\n",
    "mlb_pitching_dataframe['game_date'] = pd.to_datetime(mlb_pitching_dataframe['game_date'])"
   ]
  },
  {
   "cell_type": "code",
   "execution_count": null,
   "id": "b082bdcf",
   "metadata": {},
   "outputs": [],
   "source": []
  },
  {
   "cell_type": "code",
   "execution_count": null,
   "id": "a4d22b06",
   "metadata": {},
   "outputs": [],
   "source": []
  },
  {
   "cell_type": "code",
   "execution_count": 86,
   "id": "97817eb0",
   "metadata": {},
   "outputs": [],
   "source": [
    "pitchDF[\"swinging_strike\"] = 0\n",
    "pitchDF.loc[pitchDF[\"description\"].str.contains(\"swinging_strike\")|pitchDF[\"description\"].str.contains(\"foul_tip\"),\"swinging_strike\"] = 1"
   ]
  },
  {
   "cell_type": "code",
   "execution_count": 87,
   "id": "0b334abe",
   "metadata": {},
   "outputs": [],
   "source": [
    "pitchDF[\"hit_into_play\"] = 0\n",
    "pitchDF.loc[pitchDF[\"description\"].str.contains(\"hit_into_play\").fillna(False),\"hit_into_play\"] = 1"
   ]
  },
  {
   "cell_type": "code",
   "execution_count": null,
   "id": "13b727a5",
   "metadata": {},
   "outputs": [],
   "source": []
  },
  {
   "cell_type": "code",
   "execution_count": 88,
   "id": "976cda77",
   "metadata": {},
   "outputs": [],
   "source": [
    "pitchDF[\"foul\"] = 0\n",
    "pitchDF.loc[(pitchDF[\"description\"].str.contains(\"foul\").fillna(False))&(~pitchDF[\"description\"].str.contains(\"tip\").fillna(False)),\"foul\"] = 1"
   ]
  },
  {
   "cell_type": "code",
   "execution_count": null,
   "id": "9d97f9ec",
   "metadata": {},
   "outputs": [],
   "source": []
  },
  {
   "cell_type": "code",
   "execution_count": 89,
   "id": "e683b33a",
   "metadata": {},
   "outputs": [],
   "source": [
    "pitchdf_grouped = pitchDF.groupby([\"batter\",\"game_pk\"])[[\"foul\",\"swinging_strike\",\"hit_into_play\"]].sum().reset_index().rename(columns={\"batter\":\"player_id\",\"game_pk\":'game_id'})\n",
    "mlb_batting_dataframe = mlb_batting_dataframe.merge(pitchdf_grouped,on=[\"game_id\",\"player_id\"],how=\"left\")"
   ]
  },
  {
   "cell_type": "code",
   "execution_count": null,
   "id": "39c9eea3",
   "metadata": {},
   "outputs": [],
   "source": []
  },
  {
   "cell_type": "code",
   "execution_count": null,
   "id": "1dfb34a4",
   "metadata": {},
   "outputs": [],
   "source": []
  },
  {
   "cell_type": "code",
   "execution_count": 90,
   "id": "81b11172",
   "metadata": {},
   "outputs": [],
   "source": [
    "stats = ['ab', 'r', 'h', 'doubles', 'triples', 'hr', 'rbi', 'sb',\n",
    "       'bb', 'k','foul', 'swinging_strike',\n",
    "       'hit_into_play']"
   ]
  },
  {
   "cell_type": "code",
   "execution_count": null,
   "id": "8f663d40",
   "metadata": {},
   "outputs": [],
   "source": []
  },
  {
   "cell_type": "code",
   "execution_count": 91,
   "id": "740e00d4",
   "metadata": {},
   "outputs": [
    {
     "name": "stderr",
     "output_type": "stream",
     "text": [
      "C:\\Users\\Pedro\\AppData\\Local\\Temp\\ipykernel_31020\\3874642026.py:7: FutureWarning: Not prepending group keys to the result index of transform-like apply. In the future, the group keys will be included in the index, regardless of whether the applied function returns a like-indexed object.\n",
      "To preserve the previous behavior, use\n",
      "\n",
      "\t>>> .groupby(..., group_keys=False)\n",
      "\n",
      "To adopt the future behavior and silence this warning, use \n",
      "\n",
      "\t>>> .groupby(..., group_keys=True)\n",
      "  moving_average_dataframe = mlb_batting_dataframe.groupby([\"season\",\"player_id\"])[stats].apply(lambda x: x.expanding().sum().shift(1)).reset_index(drop=True)\n"
     ]
    }
   ],
   "source": [
    "mlb_batting_dataframe[stats] = mlb_batting_dataframe[stats].astype(float).fillna(0)\n",
    "\n",
    "mlb_batting_dataframe.sort_values(by=[\"season\",\"player_id\",\"game_date\"], inplace=True)\n",
    "mlb_batting_dataframe.reset_index(inplace=True,drop=False)\n",
    "\n",
    "\n",
    "moving_average_dataframe = mlb_batting_dataframe.groupby([\"season\",\"player_id\"])[stats].apply(lambda x: x.expanding().sum().shift(1)).reset_index(drop=True)\n",
    "moving_average_dataframe.columns = \"1_day_lag_season_sum_\"+moving_average_dataframe.columns\n",
    "mlb_batting_dataframe = mlb_batting_dataframe.join(moving_average_dataframe)\n",
    "\n",
    "mlb_batting_dataframe.drop(columns=['index'],inplace=True)\n"
   ]
  },
  {
   "cell_type": "code",
   "execution_count": null,
   "id": "afffa885",
   "metadata": {},
   "outputs": [],
   "source": []
  },
  {
   "cell_type": "code",
   "execution_count": 92,
   "id": "4989a88d",
   "metadata": {},
   "outputs": [],
   "source": [
    "# Calculations for batting statistics\n",
    "mlb_batting_dataframe['batter_batting_average'] = (\n",
    "    mlb_batting_dataframe['1_day_lag_season_sum_h'] / \n",
    "    mlb_batting_dataframe['1_day_lag_season_sum_ab']\n",
    ")\n",
    "\n",
    "mlb_batting_dataframe['batter_walk_rate'] = (\n",
    "    mlb_batting_dataframe['1_day_lag_season_sum_bb'] / \n",
    "    (\n",
    "        mlb_batting_dataframe['1_day_lag_season_sum_ab'] + \n",
    "        mlb_batting_dataframe['1_day_lag_season_sum_bb'] + \n",
    "        mlb_batting_dataframe['1_day_lag_season_sum_k']\n",
    "    )\n",
    ")\n",
    "\n",
    "mlb_batting_dataframe['batter_strikeout_rate'] = (\n",
    "    mlb_batting_dataframe['1_day_lag_season_sum_k'] / \n",
    "    (\n",
    "        mlb_batting_dataframe['1_day_lag_season_sum_ab'] + \n",
    "        mlb_batting_dataframe['1_day_lag_season_sum_bb'] + \n",
    "        mlb_batting_dataframe['1_day_lag_season_sum_k']\n",
    "    )\n",
    ")\n",
    "\n",
    "mlb_batting_dataframe['batter_contact_rate'] = (\n",
    "    ((mlb_batting_dataframe['1_day_lag_season_sum_hit_into_play']+mlb_batting_dataframe['1_day_lag_season_sum_foul']) / \n",
    "    (\n",
    "        mlb_batting_dataframe['1_day_lag_season_sum_hit_into_play'] + \n",
    "        mlb_batting_dataframe['1_day_lag_season_sum_swinging_strike']+mlb_batting_dataframe['1_day_lag_season_sum_foul'])\n",
    "    )\n",
    ")\n",
    "\n",
    "mlb_batting_dataframe['batter_slugging_percent'] = (\n",
    "    (\n",
    "        (mlb_batting_dataframe['1_day_lag_season_sum_h'] - \n",
    "        mlb_batting_dataframe['1_day_lag_season_sum_doubles'] - \n",
    "        mlb_batting_dataframe['1_day_lag_season_sum_triples'] - \n",
    "        mlb_batting_dataframe['1_day_lag_season_sum_hr']) + \n",
    "        2 * mlb_batting_dataframe['1_day_lag_season_sum_doubles'] + \n",
    "        3 * mlb_batting_dataframe['1_day_lag_season_sum_triples'] + \n",
    "        4 * mlb_batting_dataframe['1_day_lag_season_sum_hr']\n",
    "    ) / \n",
    "    mlb_batting_dataframe['1_day_lag_season_sum_ab']\n",
    ")\n",
    "\n",
    "mlb_batting_dataframe['batter_on_base_percentage'] = (\n",
    "    (mlb_batting_dataframe['1_day_lag_season_sum_h'] + \n",
    "    mlb_batting_dataframe['1_day_lag_season_sum_bb']) / \n",
    "    (\n",
    "        mlb_batting_dataframe['1_day_lag_season_sum_ab'] + \n",
    "        mlb_batting_dataframe['1_day_lag_season_sum_bb']\n",
    "    )\n",
    ")\n",
    "\n",
    "mlb_batting_dataframe['batter_whiff_rate'] = (\n",
    "    mlb_batting_dataframe['1_day_lag_season_sum_swinging_strike'] / \n",
    "    (\n",
    "        mlb_batting_dataframe['1_day_lag_season_sum_hit_into_play'] + \n",
    "        mlb_batting_dataframe['1_day_lag_season_sum_swinging_strike'] +\n",
    "        mlb_batting_dataframe['1_day_lag_season_sum_foul']\n",
    "    )\n",
    ")\n",
    "\n",
    "mlb_batting_dataframe['batter_singles_average'] = (\n",
    "        (mlb_batting_dataframe['1_day_lag_season_sum_h'] - \n",
    "        mlb_batting_dataframe['1_day_lag_season_sum_doubles'] - \n",
    "        mlb_batting_dataframe['1_day_lag_season_sum_triples'] - \n",
    "        mlb_batting_dataframe['1_day_lag_season_sum_hr']) / \n",
    "    mlb_batting_dataframe['1_day_lag_season_sum_ab']\n",
    ")\n",
    "\n",
    "mlb_batting_dataframe['batter_doubles_triple_average'] = (\n",
    "        (\n",
    "        mlb_batting_dataframe['1_day_lag_season_sum_doubles'] + \n",
    "        mlb_batting_dataframe['1_day_lag_season_sum_triples']) / \n",
    "    mlb_batting_dataframe['1_day_lag_season_sum_ab']\n",
    ")\n",
    "\n",
    "mlb_batting_dataframe['batter_home_run_average'] = (\n",
    "        (mlb_batting_dataframe['1_day_lag_season_sum_hr']) / \n",
    "    mlb_batting_dataframe['1_day_lag_season_sum_ab']\n",
    ")"
   ]
  },
  {
   "cell_type": "code",
   "execution_count": null,
   "id": "b6b14708",
   "metadata": {},
   "outputs": [],
   "source": []
  },
  {
   "cell_type": "code",
   "execution_count": 93,
   "id": "8faceaf6",
   "metadata": {},
   "outputs": [],
   "source": [
    "mlb_pitching_dataframe[\"ip\"] = mlb_pitching_dataframe[\"ip\"].apply(lambda x: int(str(x).split(\".\")[0])+int(str(x).split(\".\")[1])*0.33)"
   ]
  },
  {
   "cell_type": "code",
   "execution_count": null,
   "id": "d9ce09d2",
   "metadata": {},
   "outputs": [],
   "source": []
  },
  {
   "cell_type": "code",
   "execution_count": null,
   "id": "b9b3bf98",
   "metadata": {},
   "outputs": [],
   "source": []
  },
  {
   "cell_type": "code",
   "execution_count": 94,
   "id": "4eaf308e",
   "metadata": {},
   "outputs": [],
   "source": [
    "stats = ['ip', 'h', 'r', 'er', 'bb', 'k', 'hr', 'p',\n",
    "       's']"
   ]
  },
  {
   "cell_type": "code",
   "execution_count": 95,
   "id": "e629c493",
   "metadata": {},
   "outputs": [
    {
     "name": "stderr",
     "output_type": "stream",
     "text": [
      "C:\\Users\\Pedro\\AppData\\Local\\Temp\\ipykernel_31020\\1633698113.py:7: FutureWarning: Not prepending group keys to the result index of transform-like apply. In the future, the group keys will be included in the index, regardless of whether the applied function returns a like-indexed object.\n",
      "To preserve the previous behavior, use\n",
      "\n",
      "\t>>> .groupby(..., group_keys=False)\n",
      "\n",
      "To adopt the future behavior and silence this warning, use \n",
      "\n",
      "\t>>> .groupby(..., group_keys=True)\n",
      "  moving_average_dataframe = mlb_pitching_dataframe.groupby([\"season\",\"player_id\"])[stats].apply(lambda x: x.expanding().sum().shift(1)).reset_index(drop=True)\n"
     ]
    }
   ],
   "source": [
    "mlb_pitching_dataframe[stats] = mlb_pitching_dataframe[stats].astype(float).fillna(0)\n",
    "\n",
    "mlb_pitching_dataframe.sort_values(by=[\"season\",\"player_id\",\"game_date\"], inplace=True)\n",
    "mlb_pitching_dataframe.reset_index(inplace=True,drop=False)\n",
    "\n",
    "\n",
    "moving_average_dataframe = mlb_pitching_dataframe.groupby([\"season\",\"player_id\"])[stats].apply(lambda x: x.expanding().sum().shift(1)).reset_index(drop=True)\n",
    "moving_average_dataframe.columns = \"1_day_lag_season_sum_\"+moving_average_dataframe.columns\n",
    "mlb_pitching_dataframe = mlb_pitching_dataframe.join(moving_average_dataframe)\n",
    "\n",
    "mlb_pitching_dataframe.drop(columns=['index'],inplace=True)"
   ]
  },
  {
   "cell_type": "code",
   "execution_count": null,
   "id": "59bff2e2",
   "metadata": {},
   "outputs": [],
   "source": []
  },
  {
   "cell_type": "code",
   "execution_count": 96,
   "id": "cf5d4a4b",
   "metadata": {},
   "outputs": [],
   "source": [
    "# Calculate total batters faced\n",
    "mlb_pitching_dataframe['pitcher_total_batters_faced'] = (\n",
    "    mlb_pitching_dataframe['1_day_lag_season_sum_h'] +\n",
    "    mlb_pitching_dataframe['1_day_lag_season_sum_bb'] +\n",
    "    mlb_pitching_dataframe[\"1_day_lag_season_sum_ip\"]*3\n",
    ").apply(lambda x: round(x,0))\n",
    "\n",
    "# Calculate pitching stats\n",
    "mlb_pitching_dataframe['pitcher_walk_rate'] = mlb_pitching_dataframe['1_day_lag_season_sum_bb'] / mlb_pitching_dataframe['pitcher_total_batters_faced']\n",
    "mlb_pitching_dataframe['pitcher_era'] = (mlb_pitching_dataframe['1_day_lag_season_sum_er'] * 9) / mlb_pitching_dataframe['1_day_lag_season_sum_ip']\n",
    "mlb_pitching_dataframe['pitcher_strikeout_percentage'] = mlb_pitching_dataframe['1_day_lag_season_sum_k'] / mlb_pitching_dataframe['pitcher_total_batters_faced']\n",
    "mlb_pitching_dataframe['pitcher_batting_average_against'] = mlb_pitching_dataframe['1_day_lag_season_sum_h'] / mlb_pitching_dataframe['pitcher_total_batters_faced']\n",
    "mlb_pitching_dataframe['pitcher_home_run_average'] = mlb_pitching_dataframe['1_day_lag_season_sum_hr'] / mlb_pitching_dataframe['pitcher_total_batters_faced']\n"
   ]
  },
  {
   "cell_type": "code",
   "execution_count": null,
   "id": "8871865f",
   "metadata": {},
   "outputs": [],
   "source": []
  },
  {
   "cell_type": "code",
   "execution_count": null,
   "id": "a0247467",
   "metadata": {},
   "outputs": [],
   "source": []
  },
  {
   "cell_type": "code",
   "execution_count": 97,
   "id": "49eb410f",
   "metadata": {
    "scrolled": true
   },
   "outputs": [],
   "source": [
    "df_to_merge = mlb_batting_dataframe[[\"game_id\",\"player_id\",'batter_batting_average', 'batter_walk_rate',\n",
    "       'batter_strikeout_rate', 'batter_contact_rate', 'batter_slugging_percent',\n",
    "       'batter_on_base_percentage', 'batter_whiff_rate','batter_singles_average','batter_doubles_triple_average',\n",
    "                                    'batter_home_run_average','1_day_lag_season_sum_ab']].rename(columns={\"player_id\":\"batter\",\"game_id\":\"game_pk\"})\n",
    "\n",
    "pitchDF = pitchDF.merge(df_to_merge,on=[\"batter\",\"game_pk\"],how=\"left\")"
   ]
  },
  {
   "cell_type": "code",
   "execution_count": null,
   "id": "743e429a",
   "metadata": {},
   "outputs": [],
   "source": []
  },
  {
   "cell_type": "code",
   "execution_count": null,
   "id": "6e287308",
   "metadata": {},
   "outputs": [],
   "source": []
  },
  {
   "cell_type": "code",
   "execution_count": 98,
   "id": "d54d4bc6",
   "metadata": {},
   "outputs": [],
   "source": [
    "df_to_merge = mlb_pitching_dataframe[[\"game_id\",\"player_id\",'pitcher_walk_rate', 'pitcher_era', 'pitcher_strikeout_percentage',\n",
    "       'pitcher_batting_average_against', 'pitcher_home_run_average',\"pitcher_total_batters_faced\"]].rename(columns={\"player_id\":\"pitcher\",\"game_id\":\"game_pk\"})\n",
    "\n",
    "pitchDF = pitchDF.merge(df_to_merge,on=[\"pitcher\",\"game_pk\"],how=\"left\")"
   ]
  },
  {
   "cell_type": "code",
   "execution_count": null,
   "id": "a20a3b28",
   "metadata": {},
   "outputs": [],
   "source": []
  },
  {
   "cell_type": "code",
   "execution_count": 99,
   "id": "43d09a26",
   "metadata": {},
   "outputs": [],
   "source": [
    "pitchDF[\"on_1b\"] = pitchDF[\"on_1b\"].fillna(0)\n",
    "pitchDF[\"on_2b\"] = pitchDF[\"on_2b\"].fillna(0)\n",
    "pitchDF[\"on_3b\"] = pitchDF[\"on_3b\"].fillna(0)"
   ]
  },
  {
   "cell_type": "code",
   "execution_count": null,
   "id": "97854bbd",
   "metadata": {},
   "outputs": [],
   "source": []
  },
  {
   "cell_type": "code",
   "execution_count": 100,
   "id": "00f720a6",
   "metadata": {},
   "outputs": [],
   "source": [
    "pitchDF.loc[pitchDF[\"on_1b\"]>0,\"on_1b\"] = 1\n",
    "pitchDF.loc[pitchDF[\"on_2b\"]>0,\"on_2b\"] = 1\n",
    "pitchDF.loc[pitchDF[\"on_3b\"]>0,\"on_3b\"] = 1"
   ]
  },
  {
   "cell_type": "code",
   "execution_count": 101,
   "id": "db915671",
   "metadata": {},
   "outputs": [],
   "source": [
    "pitchDF.to_csv(data_dir+\"pitchdf_ready_preds.csv\",index=False)"
   ]
  },
  {
   "cell_type": "code",
   "execution_count": null,
   "id": "6aa16b4e",
   "metadata": {},
   "outputs": [],
   "source": []
  },
  {
   "cell_type": "code",
   "execution_count": null,
   "id": "f11ae442",
   "metadata": {},
   "outputs": [],
   "source": []
  },
  {
   "cell_type": "code",
   "execution_count": null,
   "id": "b7fec4b1",
   "metadata": {},
   "outputs": [],
   "source": []
  },
  {
   "cell_type": "code",
   "execution_count": null,
   "id": "c776150d",
   "metadata": {},
   "outputs": [],
   "source": []
  }
 ],
 "metadata": {
  "kernelspec": {
   "display_name": "Python 3 (ipykernel)",
   "language": "python",
   "name": "python3"
  },
  "language_info": {
   "codemirror_mode": {
    "name": "ipython",
    "version": 3
   },
   "file_extension": ".py",
   "mimetype": "text/x-python",
   "name": "python",
   "nbconvert_exporter": "python",
   "pygments_lexer": "ipython3",
   "version": "3.11.4"
  }
 },
 "nbformat": 4,
 "nbformat_minor": 5
}
