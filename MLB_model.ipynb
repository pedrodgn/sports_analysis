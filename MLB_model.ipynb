{
 "cells": [
  {
   "cell_type": "code",
   "execution_count": 1,
   "id": "315a5732",
   "metadata": {},
   "outputs": [],
   "source": [
    "import pandas as pd\n",
    "from sklearn.model_selection import train_test_split, KFold, RandomizedSearchCV\n",
    "from sklearn.ensemble import RandomForestClassifier\n",
    "from sklearn.linear_model import LogisticRegression\n",
    "from xgboost import XGBClassifier\n",
    "from sklearn.feature_selection import RFECV\n",
    "from sklearn.metrics import classification_report\n",
    "import matplotlib.pyplot as plt\n",
    "import seaborn as sns\n",
    "from scipy.stats import randint, uniform\n",
    "import warnings\n",
    "warnings.filterwarnings(\"ignore\")"
   ]
  },
  {
   "cell_type": "code",
   "execution_count": 2,
   "id": "d02af042",
   "metadata": {},
   "outputs": [],
   "source": [
    "from imblearn.under_sampling import RandomUnderSampler"
   ]
  },
  {
   "cell_type": "code",
   "execution_count": null,
   "id": "c15d748b",
   "metadata": {},
   "outputs": [],
   "source": []
  },
  {
   "cell_type": "code",
   "execution_count": null,
   "id": "7cc6748f",
   "metadata": {},
   "outputs": [],
   "source": []
  },
  {
   "cell_type": "code",
   "execution_count": 3,
   "id": "e2d6fb07",
   "metadata": {},
   "outputs": [],
   "source": [
    "data_dir = \"./datasets/\""
   ]
  },
  {
   "cell_type": "code",
   "execution_count": 4,
   "id": "b38a0d0c",
   "metadata": {},
   "outputs": [],
   "source": [
    "df = pd.read_csv(data_dir+\"pitchdf_ready_preds.csv\")\n",
    "df[\"game_date\"] = pd.to_datetime(df[\"game_date\"])\n",
    "df = df[(df[\"1_day_lag_season_sum_ab\"]>35)&(df[\"pitcher_total_batters_faced\"]>50)]"
   ]
  },
  {
   "cell_type": "code",
   "execution_count": 5,
   "id": "9affcfb3",
   "metadata": {},
   "outputs": [],
   "source": [
    "df = df.sort_values(\"game_date\")"
   ]
  },
  {
   "cell_type": "code",
   "execution_count": null,
   "id": "63885df1",
   "metadata": {},
   "outputs": [],
   "source": []
  },
  {
   "cell_type": "code",
   "execution_count": null,
   "id": "35d2dc58",
   "metadata": {},
   "outputs": [],
   "source": []
  },
  {
   "cell_type": "code",
   "execution_count": 6,
   "id": "3a481cf5",
   "metadata": {},
   "outputs": [],
   "source": [
    "player_id_name = pd.read_csv(data_dir+\"player_id_name.csv\")\n",
    "player_id_name_dict = dict(zip(list(player_id_name[\"id\"].values),list(player_id_name[\"fullName\"].values)))"
   ]
  },
  {
   "cell_type": "code",
   "execution_count": null,
   "id": "652a0a1c",
   "metadata": {},
   "outputs": [],
   "source": []
  },
  {
   "cell_type": "code",
   "execution_count": null,
   "id": "0db5e01b",
   "metadata": {},
   "outputs": [],
   "source": []
  },
  {
   "cell_type": "code",
   "execution_count": null,
   "id": "9bd618a9",
   "metadata": {},
   "outputs": [],
   "source": []
  },
  {
   "cell_type": "code",
   "execution_count": null,
   "id": "e6531e3e",
   "metadata": {},
   "outputs": [],
   "source": []
  },
  {
   "cell_type": "code",
   "execution_count": 7,
   "id": "ddab625e",
   "metadata": {},
   "outputs": [
    {
     "data": {
      "text/plain": [
       "field_out                    104385\n",
       "strikeout                     58178\n",
       "single                        36825\n",
       "walk                          20325\n",
       "double                        11407\n",
       "home_run                       8346\n",
       "force_out                      4884\n",
       "grounded_into_double_play      4751\n",
       "hit_by_pitch                   2807\n",
       "sac_fly                        1675\n",
       "field_error                    1532\n",
       "triple                         1002\n",
       "sac_bunt                        571\n",
       "fielders_choice                 525\n",
       "double_play                     505\n",
       "truncated_pa                    419\n",
       "fielders_choice_out             393\n",
       "strikeout_double_play           157\n",
       "catcher_interf                  126\n",
       "sac_fly_double_play              23\n",
       "triple_play                       3\n",
       "Name: events, dtype: int64"
      ]
     },
     "execution_count": 7,
     "metadata": {},
     "output_type": "execute_result"
    }
   ],
   "source": [
    "df[\"events\"].value_counts()"
   ]
  },
  {
   "cell_type": "code",
   "execution_count": null,
   "id": "ac7ccf4d",
   "metadata": {},
   "outputs": [],
   "source": []
  },
  {
   "cell_type": "code",
   "execution_count": null,
   "id": "bb836586",
   "metadata": {},
   "outputs": [],
   "source": []
  },
  {
   "cell_type": "code",
   "execution_count": 8,
   "id": "279f955f",
   "metadata": {},
   "outputs": [],
   "source": [
    "df.loc[df[\"events\"].isin(['fielders_choice_out', 'force_out','grounded_into_double_play',\n",
    "                         'triple_play']),\"events\"] = \"field_out\"\n",
    "\n",
    "df.loc[df[\"events\"].isin(['strikeout_double_play']),\"events\"] = \"strikeout\"\n"
   ]
  },
  {
   "cell_type": "code",
   "execution_count": 9,
   "id": "ea49dfa6",
   "metadata": {},
   "outputs": [],
   "source": [
    "events_list = ['strikeout','field_out', 'single', 'home_run', 'walk',\n",
    "        'double',\n",
    "       'triple',]"
   ]
  },
  {
   "cell_type": "code",
   "execution_count": null,
   "id": "2fb1b9bd",
   "metadata": {},
   "outputs": [],
   "source": []
  },
  {
   "cell_type": "code",
   "execution_count": 10,
   "id": "2ebeae67",
   "metadata": {},
   "outputs": [],
   "source": [
    "events_df = df[[\"batter\",\"game_pk\",\"pitcher\",\"events\",'at_bat_number']].dropna().groupby([\"game_pk\",\"at_bat_number\"])[\"events\"].value_counts()\n",
    "events_df = pd.DataFrame(list(events_df.index),columns=[\"game_pk\",\"at_bat_number\",\"at_bat_result\"])\n",
    "df = df.merge(events_df,on=[\"game_pk\",\"at_bat_number\"])\n",
    "df = df[df[\"at_bat_result\"].isin(events_list)]"
   ]
  },
  {
   "cell_type": "code",
   "execution_count": 11,
   "id": "51bda643",
   "metadata": {},
   "outputs": [],
   "source": [
    "df.loc[df[\"at_bat_result\"].isin([\"double\",\"triple\"]),\"at_bat_result\"] = \"double_triple\""
   ]
  },
  {
   "cell_type": "code",
   "execution_count": 12,
   "id": "83879540",
   "metadata": {},
   "outputs": [],
   "source": [
    "encoder_dict = { 'single':0, 'double_triple':1,'home_run':2,'walk':3, 'field_out':4,'strikeout':5}"
   ]
  },
  {
   "cell_type": "code",
   "execution_count": 13,
   "id": "33726878",
   "metadata": {},
   "outputs": [],
   "source": [
    "df['at_bat_result_encoded'] = df['at_bat_result'].apply(lambda x: encoder_dict[x])"
   ]
  },
  {
   "cell_type": "code",
   "execution_count": null,
   "id": "b2005ffd",
   "metadata": {},
   "outputs": [],
   "source": []
  },
  {
   "cell_type": "code",
   "execution_count": 14,
   "id": "4f32f00c",
   "metadata": {},
   "outputs": [],
   "source": [
    "# Features and target\n",
    "features = ['balls', 'strikes', 'on_3b', 'on_2b', 'on_1b', 'outs_when_up',\n",
    "            'batter_walk_rate', 'batter_strikeout_rate',\n",
    "            'batter_singles_average',\n",
    "                                    'batter_home_run_average',\n",
    "           'pitcher_walk_rate', 'pitcher_strikeout_percentage',\n",
    "       'pitcher_batting_average_against', 'pitcher_home_run_average']\n",
    "target = 'at_bat_result_encoded'\n",
    "df = df.dropna(subset=features)\n"
   ]
  },
  {
   "cell_type": "code",
   "execution_count": null,
   "id": "65fe7689",
   "metadata": {},
   "outputs": [],
   "source": []
  },
  {
   "cell_type": "code",
   "execution_count": 15,
   "id": "b6dd3c4f",
   "metadata": {},
   "outputs": [],
   "source": [
    "\n",
    "# Split into training and test sets\n",
    "train_size = 0.8\n",
    "split_index = int(len(df) * train_size)\n",
    "\n",
    "df_train = df.iloc[:split_index].copy()\n",
    "df_test = df.iloc[split_index:].copy()\n",
    "\n",
    "# Now apply resampling only on the training set\n",
    "X_train = df_train[features]  # Features\n",
    "y_train = df_train[target]  # Target variable\n",
    "\n",
    "sampling_strategy = {\n",
    "    0: int(0.6*y_train.value_counts()[0]),\n",
    "    1: int(0.2*y_train.value_counts()[0]), \n",
    "    2: int(0.2*y_train.value_counts()[0]), \n",
    "    3: int(0.6*y_train.value_counts()[0]),\n",
    "    4: int(0.75*y_train.value_counts()[0]),\n",
    "    5: int(0.65*y_train.value_counts()[0])\n",
    "}\n",
    "\n",
    "\n",
    "# Initialize the RandomUnderSampler\n",
    "rus = RandomUnderSampler(sampling_strategy=sampling_strategy, random_state=42)\n",
    "\n",
    "# Resample the training data\n",
    "X_train_resampled, y_train_resampled = rus.fit_resample(X_train, y_train)"
   ]
  },
  {
   "cell_type": "code",
   "execution_count": 16,
   "id": "4bb2d5bc",
   "metadata": {},
   "outputs": [],
   "source": [
    "# Now apply resampling only on the training set\n",
    "X_test = df_test[features]  # Features\n",
    "y_test = df_test[target]  # Target variable"
   ]
  },
  {
   "cell_type": "code",
   "execution_count": null,
   "id": "a5f54456",
   "metadata": {},
   "outputs": [],
   "source": []
  },
  {
   "cell_type": "code",
   "execution_count": null,
   "id": "e5b830d6",
   "metadata": {},
   "outputs": [],
   "source": []
  },
  {
   "cell_type": "code",
   "execution_count": 17,
   "id": "911b27c9",
   "metadata": {},
   "outputs": [],
   "source": [
    "# Initialize KFold for cross-validation\n",
    "kf = KFold(n_splits=3, shuffle=True, random_state=42)\n",
    "\n",
    "# Initialize models and their hyperparameter grids\n",
    "param_grids = {\n",
    "    'XGBoost': {\n",
    "        'n_estimators': randint(100, 500),\n",
    "        'learning_rate': uniform(0.01, 0.3),\n",
    "        'max_depth': randint(3, 10),\n",
    "        'subsample': uniform(0.5, 1),\n",
    "        'colsample_bytree': uniform(0.5, 1)\n",
    "    },\n",
    "    'LogisticRegression': {\n",
    "        'C': uniform(0.01, 10),\n",
    "        'penalty': ['l1', 'l2'],\n",
    "        'solver': ['liblinear']\n",
    "    }\n",
    "}"
   ]
  },
  {
   "cell_type": "code",
   "execution_count": null,
   "id": "aa1f0e77",
   "metadata": {},
   "outputs": [],
   "source": []
  },
  {
   "cell_type": "code",
   "execution_count": null,
   "id": "52b073d2",
   "metadata": {},
   "outputs": [],
   "source": []
  },
  {
   "cell_type": "code",
   "execution_count": 18,
   "id": "63c447a5",
   "metadata": {},
   "outputs": [],
   "source": [
    "# Initialize models\n",
    "models = {\n",
    "    'XGBoost': XGBClassifier(random_state=42),\n",
    "    'LogisticRegression': LogisticRegression(max_iter=500, random_state=42)\n",
    "}"
   ]
  },
  {
   "cell_type": "code",
   "execution_count": null,
   "id": "fd13ea83",
   "metadata": {},
   "outputs": [],
   "source": []
  },
  {
   "cell_type": "code",
   "execution_count": null,
   "id": "3ab8627a",
   "metadata": {},
   "outputs": [],
   "source": []
  },
  {
   "cell_type": "code",
   "execution_count": 19,
   "id": "554b43f0",
   "metadata": {},
   "outputs": [
    {
     "name": "stdout",
     "output_type": "stream",
     "text": [
      "\n",
      "Tuning hyperparameters for XGBoost...\n",
      "Fitting 3 folds for each of 30 candidates, totalling 90 fits\n",
      "Best parameters for XGBoost: {'colsample_bytree': 0.7184404372168336, 'learning_rate': 0.13495298436110986, 'max_depth': 8, 'n_estimators': 430, 'subsample': 0.824345021005274}\n",
      "\n",
      "XGBoost Classification Report:\n",
      "              precision    recall  f1-score   support\n",
      "\n",
      "           0       0.15      0.13      0.14     24665\n",
      "           1       0.05      0.00      0.00      7892\n",
      "           2       0.07      0.00      0.01      5438\n",
      "           3       0.29      0.37      0.32     23386\n",
      "           4       0.45      0.50      0.47     77261\n",
      "           5       0.41      0.41      0.41     57723\n",
      "\n",
      "    accuracy                           0.38    196365\n",
      "   macro avg       0.24      0.24      0.23    196365\n",
      "weighted avg       0.35      0.38      0.36    196365\n",
      "\n",
      "\n",
      "Tuning hyperparameters for LogisticRegression...\n",
      "Fitting 3 folds for each of 30 candidates, totalling 90 fits\n",
      "Best parameters for LogisticRegression: {'C': 2.3189382562214895, 'penalty': 'l2', 'solver': 'liblinear'}\n",
      "\n",
      "LogisticRegression Classification Report:\n",
      "              precision    recall  f1-score   support\n",
      "\n",
      "           0       0.20      0.02      0.03     24665\n",
      "           1       0.00      0.00      0.00      7892\n",
      "           2       0.00      0.00      0.00      5438\n",
      "           3       0.27      0.49      0.35     23386\n",
      "           4       0.46      0.55      0.50     77261\n",
      "           5       0.43      0.45      0.44     57723\n",
      "\n",
      "    accuracy                           0.41    196365\n",
      "   macro avg       0.23      0.25      0.22    196365\n",
      "weighted avg       0.37      0.41      0.37    196365\n",
      "\n"
     ]
    }
   ],
   "source": [
    "# Perform hyperparameter tuning and training using RandomizedSearchCV\n",
    "best_models = {}\n",
    "for name, model in models.items():\n",
    "    print(f\"\\nTuning hyperparameters for {name}...\")\n",
    "    \n",
    "    # Set up RandomizedSearchCV\n",
    "    randomized_search = RandomizedSearchCV(estimator=model, param_distributions=param_grids[name], \n",
    "                                           n_iter=30, cv=kf, random_state=42, scoring='f1_micro', n_jobs=18,verbose=2)\n",
    "    \n",
    "    # Fit the RandomizedSearchCV to find the best hyperparameters\n",
    "    randomized_search.fit(X_train_resampled, y_train_resampled)\n",
    "    \n",
    "    # Store the best model\n",
    "    best_models[name] = randomized_search.best_estimator_\n",
    "    \n",
    "    # Print best parameters\n",
    "    print(f\"Best parameters for {name}: {randomized_search.best_params_}\")\n",
    "    \n",
    "    # Predict using the best model\n",
    "    y_pred = randomized_search.predict(X_test)\n",
    "    \n",
    "    # Classification report\n",
    "    print(f\"\\n{name} Classification Report:\")\n",
    "    print(classification_report(y_test, y_pred))\n"
   ]
  },
  {
   "cell_type": "code",
   "execution_count": null,
   "id": "f97e12fa",
   "metadata": {},
   "outputs": [],
   "source": []
  },
  {
   "cell_type": "code",
   "execution_count": null,
   "id": "a91dd1b9",
   "metadata": {},
   "outputs": [],
   "source": []
  },
  {
   "cell_type": "code",
   "execution_count": null,
   "id": "57e60329",
   "metadata": {},
   "outputs": [],
   "source": []
  },
  {
   "cell_type": "code",
   "execution_count": null,
   "id": "764881f2",
   "metadata": {},
   "outputs": [],
   "source": []
  },
  {
   "cell_type": "code",
   "execution_count": null,
   "id": "e64ce3bf",
   "metadata": {},
   "outputs": [],
   "source": []
  },
  {
   "cell_type": "code",
   "execution_count": 20,
   "id": "3e0946b2",
   "metadata": {},
   "outputs": [
    {
     "data": {
      "image/png": "[encoded data removed]",
      "text/plain": [
       "<Figure size 1000x600 with 1 Axes>"
      ]
     },
     "metadata": {},
     "output_type": "display_data"
    }
   ],
   "source": [
    "# Feature importance for tree-based models (RandomForest and XGBoost)\n",
    "for name, model in best_models.items():\n",
    "    if hasattr(model, 'feature_importances_'):\n",
    "        # Plot feature importance\n",
    "        plt.figure(figsize=(10, 6))\n",
    "        sns.barplot(x=model.feature_importances_, y=X_train.columns)\n",
    "        plt.title(f\"{name} Feature Importance\")\n",
    "        plt.show()"
   ]
  },
  {
   "cell_type": "code",
   "execution_count": null,
   "id": "e543ef9a",
   "metadata": {},
   "outputs": [],
   "source": []
  },
  {
   "cell_type": "code",
   "execution_count": 21,
   "id": "ac1bbbce",
   "metadata": {},
   "outputs": [],
   "source": [
    "model_to_save = best_models['XGBoost']"
   ]
  },
  {
   "cell_type": "code",
   "execution_count": 22,
   "id": "a7191886",
   "metadata": {},
   "outputs": [
    {
     "data": {
      "text/plain": [
       "['best_xgboost_model.pkl']"
      ]
     },
     "execution_count": 22,
     "metadata": {},
     "output_type": "execute_result"
    }
   ],
   "source": [
    "import joblib\n",
    "\n",
    "# Save the model\n",
    "joblib.dump(model_to_save, 'best_xgboost_model.pkl')"
   ]
  },
  {
   "cell_type": "code",
   "execution_count": 23,
   "id": "b578cc8b",
   "metadata": {},
   "outputs": [],
   "source": [
    "at_bat_result_df = df[[\"at_bat_result\",'at_bat_result_encoded']].drop_duplicates().sort_values(\"at_bat_result_encoded\")"
   ]
  },
  {
   "cell_type": "code",
   "execution_count": 24,
   "id": "2b993026",
   "metadata": {},
   "outputs": [
    {
     "data": {
      "text/plain": [
       "{0: 'single',\n",
       " 1: 'double_triple',\n",
       " 2: 'home_run',\n",
       " 3: 'walk',\n",
       " 4: 'field_out',\n",
       " 5: 'strikeout'}"
      ]
     },
     "execution_count": 24,
     "metadata": {},
     "output_type": "execute_result"
    }
   ],
   "source": [
    "dict(zip(at_bat_result_df[\"at_bat_result_encoded\"].values,at_bat_result_df[\"at_bat_result\"].values))"
   ]
  },
  {
   "cell_type": "code",
   "execution_count": null,
   "id": "12a724ee",
   "metadata": {},
   "outputs": [],
   "source": []
  },
  {
   "cell_type": "code",
   "execution_count": null,
   "id": "3ba63aaf",
   "metadata": {},
   "outputs": [],
   "source": []
  },
  {
   "cell_type": "code",
   "execution_count": 36,
   "id": "07a01d56",
   "metadata": {},
   "outputs": [
    {
     "data": {
      "image/png": "[encoded data removed]",
      "text/plain": [
       "<Figure size 640x480 with 1 Axes>"
      ]
     },
     "metadata": {},
     "output_type": "display_data"
    }
   ],
   "source": [
    "from sklearn.calibration import calibration_curve\n",
    "import matplotlib.pyplot as plt\n",
    "\n",
    "prob_true, prob_pred = calibration_curve(y_test == 0, model.predict_proba(X_test)[:, 0], n_bins=10)\n",
    "plt.plot(prob_pred, prob_true, marker='o')\n",
    "plt.xlabel(\"Predicted Probability\")\n",
    "plt.ylabel(\"True Probability\")\n",
    "plt.title(\"Singles Probability Calibration\")\n",
    "plt.show()"
   ]
  },
  {
   "cell_type": "code",
   "execution_count": null,
   "id": "f3aa04d5",
   "metadata": {},
   "outputs": [],
   "source": []
  },
  {
   "cell_type": "code",
   "execution_count": null,
   "id": "a782844b",
   "metadata": {},
   "outputs": [],
   "source": []
  },
  {
   "cell_type": "code",
   "execution_count": 44,
   "id": "5f72caff",
   "metadata": {},
   "outputs": [
    {
     "data": {
      "image/png": "[encoded data removed]",
      "text/plain": [
       "<Figure size 640x480 with 1 Axes>"
      ]
     },
     "metadata": {},
     "output_type": "display_data"
    }
   ],
   "source": [
    "from sklearn.calibration import calibration_curve\n",
    "import matplotlib.pyplot as plt\n",
    "\n",
    "prob_true, prob_pred = calibration_curve(y_test == 0, model.predict_proba(X_test)[:, 1], n_bins=10)\n",
    "plt.plot(prob_pred, prob_true, marker='o')\n",
    "plt.xlabel(\"Predicted Probability\")\n",
    "plt.ylabel(\"True Probability\")\n",
    "plt.title(\"Doubles/Triples Probability Calibration\")\n",
    "plt.show()"
   ]
  },
  {
   "cell_type": "code",
   "execution_count": null,
   "id": "2676625a",
   "metadata": {},
   "outputs": [],
   "source": []
  },
  {
   "cell_type": "code",
   "execution_count": 48,
   "id": "6a3969f2",
   "metadata": {},
   "outputs": [
    {
     "data": {
      "image/png": "[encoded data removed]",
      "text/plain": [
       "<Figure size 640x480 with 1 Axes>"
      ]
     },
     "metadata": {},
     "output_type": "display_data"
    }
   ],
   "source": [
    "from sklearn.calibration import calibration_curve\n",
    "import matplotlib.pyplot as plt\n",
    "\n",
    "prob_true, prob_pred = calibration_curve(y_test == 2, model.predict_proba(X_test)[:, 2], n_bins=20)\n",
    "plt.plot(prob_pred, prob_true, marker='o')\n",
    "plt.xlabel(\"Predicted Probability\")\n",
    "plt.ylabel(\"True Probability\")\n",
    "plt.title(\"Home Run Probability Calibration\")\n",
    "plt.show()"
   ]
  },
  {
   "cell_type": "code",
   "execution_count": null,
   "id": "3aeab728",
   "metadata": {},
   "outputs": [],
   "source": []
  },
  {
   "cell_type": "code",
   "execution_count": 49,
   "id": "dca7333f",
   "metadata": {},
   "outputs": [
    {
     "data": {
      "text/plain": [
       "(array([0.01422241, 0.02980069, 0.04580766, 0.076     ]),\n",
       " array([0.04323743, 0.06924871, 0.1122537 , 0.15853836]))"
      ]
     },
     "execution_count": 49,
     "metadata": {},
     "output_type": "execute_result"
    }
   ],
   "source": [
    "prob_true, prob_pred"
   ]
  },
  {
   "cell_type": "code",
   "execution_count": null,
   "id": "bda83d91",
   "metadata": {},
   "outputs": [],
   "source": []
  },
  {
   "cell_type": "code",
   "execution_count": 51,
   "id": "54fb6b09",
   "metadata": {},
   "outputs": [
    {
     "data": {
      "text/plain": [
       "Index(['game_date', 'game_pk', 'batter', 'pitcher', 'events', 'description',\n",
       "       'zone', 'pitch_type', 'balls', 'strikes', 'game_year', 'on_3b', 'on_2b',\n",
       "       'on_1b', 'outs_when_up', 'hit_distance_sc', 'launch_speed',\n",
       "       'launch_angle', 'effective_speed', 'estimated_ba_using_speedangle',\n",
       "       'estimated_woba_using_speedangle', 'woba_value', 'woba_denom',\n",
       "       'babip_value', 'iso_value', 'launch_speed_angle', 'at_bat_number',\n",
       "       'pitch_number', 'swinging_strike', 'hit_into_play', 'foul',\n",
       "       'batter_batting_average', 'batter_walk_rate', 'batter_strikeout_rate',\n",
       "       'batter_contact_rate', 'batter_slugging_percent',\n",
       "       'batter_on_base_percentage', 'batter_whiff_rate',\n",
       "       'batter_singles_average', 'batter_doubles_triple_average',\n",
       "       'batter_home_run_average', '1_day_lag_season_sum_ab',\n",
       "       'pitcher_walk_rate', 'pitcher_era', 'pitcher_strikeout_percentage',\n",
       "       'pitcher_batting_average_against', 'pitcher_home_run_average',\n",
       "       'pitcher_total_batters_faced', 'at_bat_result',\n",
       "       'at_bat_result_encoded'],\n",
       "      dtype='object')"
      ]
     },
     "execution_count": 51,
     "metadata": {},
     "output_type": "execute_result"
    }
   ],
   "source": [
    "df.columns"
   ]
  },
  {
   "cell_type": "code",
   "execution_count": null,
   "id": "3373ef1e",
   "metadata": {},
   "outputs": [],
   "source": []
  },
  {
   "cell_type": "code",
   "execution_count": 57,
   "id": "0fb6c6fe",
   "metadata": {},
   "outputs": [
    {
     "data": {
      "text/html": [
       "<div>\n",
       "<style scoped>\n",
       "    .dataframe tbody tr th:only-of-type {\n",
       "        vertical-align: middle;\n",
       "    }\n",
       "\n",
       "    .dataframe tbody tr th {\n",
       "        vertical-align: top;\n",
       "    }\n",
       "\n",
       "    .dataframe thead th {\n",
       "        text-align: right;\n",
       "    }\n",
       "</style>\n",
       "<table border=\"1\" class=\"dataframe\">\n",
       "  <thead>\n",
       "    <tr style=\"text-align: right;\">\n",
       "      <th></th>\n",
       "      <th>batter</th>\n",
       "      <th>pitcher</th>\n",
       "      <th>at_bat_number</th>\n",
       "      <th>balls</th>\n",
       "      <th>strikes</th>\n",
       "      <th>batter_walk_rate</th>\n",
       "      <th>pitcher_strikeout_percentage</th>\n",
       "      <th>at_bat_result</th>\n",
       "    </tr>\n",
       "  </thead>\n",
       "  <tbody>\n",
       "    <tr>\n",
       "      <th>500946</th>\n",
       "      <td>596146</td>\n",
       "      <td>663855</td>\n",
       "      <td>64</td>\n",
       "      <td>0</td>\n",
       "      <td>0</td>\n",
       "      <td>0.075972</td>\n",
       "      <td>0.283217</td>\n",
       "      <td>strikeout</td>\n",
       "    </tr>\n",
       "    <tr>\n",
       "      <th>500947</th>\n",
       "      <td>596146</td>\n",
       "      <td>663855</td>\n",
       "      <td>64</td>\n",
       "      <td>0</td>\n",
       "      <td>1</td>\n",
       "      <td>0.075972</td>\n",
       "      <td>0.283217</td>\n",
       "      <td>strikeout</td>\n",
       "    </tr>\n",
       "    <tr>\n",
       "      <th>500948</th>\n",
       "      <td>596146</td>\n",
       "      <td>663855</td>\n",
       "      <td>64</td>\n",
       "      <td>0</td>\n",
       "      <td>2</td>\n",
       "      <td>0.075972</td>\n",
       "      <td>0.283217</td>\n",
       "      <td>strikeout</td>\n",
       "    </tr>\n",
       "    <tr>\n",
       "      <th>500949</th>\n",
       "      <td>621043</td>\n",
       "      <td>663855</td>\n",
       "      <td>66</td>\n",
       "      <td>0</td>\n",
       "      <td>0</td>\n",
       "      <td>0.083807</td>\n",
       "      <td>0.283217</td>\n",
       "      <td>single</td>\n",
       "    </tr>\n",
       "    <tr>\n",
       "      <th>500950</th>\n",
       "      <td>621043</td>\n",
       "      <td>663855</td>\n",
       "      <td>66</td>\n",
       "      <td>1</td>\n",
       "      <td>0</td>\n",
       "      <td>0.083807</td>\n",
       "      <td>0.283217</td>\n",
       "      <td>single</td>\n",
       "    </tr>\n",
       "    <tr>\n",
       "      <th>500951</th>\n",
       "      <td>621043</td>\n",
       "      <td>663855</td>\n",
       "      <td>66</td>\n",
       "      <td>1</td>\n",
       "      <td>1</td>\n",
       "      <td>0.083807</td>\n",
       "      <td>0.283217</td>\n",
       "      <td>single</td>\n",
       "    </tr>\n",
       "    <tr>\n",
       "      <th>500952</th>\n",
       "      <td>621043</td>\n",
       "      <td>663855</td>\n",
       "      <td>66</td>\n",
       "      <td>2</td>\n",
       "      <td>1</td>\n",
       "      <td>0.083807</td>\n",
       "      <td>0.283217</td>\n",
       "      <td>single</td>\n",
       "    </tr>\n",
       "    <tr>\n",
       "      <th>500953</th>\n",
       "      <td>680777</td>\n",
       "      <td>663855</td>\n",
       "      <td>67</td>\n",
       "      <td>0</td>\n",
       "      <td>0</td>\n",
       "      <td>0.078481</td>\n",
       "      <td>0.283217</td>\n",
       "      <td>walk</td>\n",
       "    </tr>\n",
       "    <tr>\n",
       "      <th>500958</th>\n",
       "      <td>680777</td>\n",
       "      <td>663855</td>\n",
       "      <td>67</td>\n",
       "      <td>0</td>\n",
       "      <td>1</td>\n",
       "      <td>0.078481</td>\n",
       "      <td>0.283217</td>\n",
       "      <td>walk</td>\n",
       "    </tr>\n",
       "    <tr>\n",
       "      <th>500957</th>\n",
       "      <td>680777</td>\n",
       "      <td>663855</td>\n",
       "      <td>67</td>\n",
       "      <td>0</td>\n",
       "      <td>2</td>\n",
       "      <td>0.078481</td>\n",
       "      <td>0.283217</td>\n",
       "      <td>walk</td>\n",
       "    </tr>\n",
       "    <tr>\n",
       "      <th>500956</th>\n",
       "      <td>680777</td>\n",
       "      <td>663855</td>\n",
       "      <td>67</td>\n",
       "      <td>1</td>\n",
       "      <td>2</td>\n",
       "      <td>0.078481</td>\n",
       "      <td>0.283217</td>\n",
       "      <td>walk</td>\n",
       "    </tr>\n",
       "    <tr>\n",
       "      <th>500955</th>\n",
       "      <td>680777</td>\n",
       "      <td>663855</td>\n",
       "      <td>67</td>\n",
       "      <td>2</td>\n",
       "      <td>2</td>\n",
       "      <td>0.078481</td>\n",
       "      <td>0.283217</td>\n",
       "      <td>walk</td>\n",
       "    </tr>\n",
       "    <tr>\n",
       "      <th>500954</th>\n",
       "      <td>680777</td>\n",
       "      <td>663855</td>\n",
       "      <td>67</td>\n",
       "      <td>3</td>\n",
       "      <td>2</td>\n",
       "      <td>0.078481</td>\n",
       "      <td>0.283217</td>\n",
       "      <td>walk</td>\n",
       "    </tr>\n",
       "    <tr>\n",
       "      <th>500965</th>\n",
       "      <td>595281</td>\n",
       "      <td>661395</td>\n",
       "      <td>69</td>\n",
       "      <td>0</td>\n",
       "      <td>0</td>\n",
       "      <td>0.060166</td>\n",
       "      <td>0.325581</td>\n",
       "      <td>strikeout</td>\n",
       "    </tr>\n",
       "    <tr>\n",
       "      <th>500966</th>\n",
       "      <td>595281</td>\n",
       "      <td>661395</td>\n",
       "      <td>69</td>\n",
       "      <td>0</td>\n",
       "      <td>1</td>\n",
       "      <td>0.060166</td>\n",
       "      <td>0.325581</td>\n",
       "      <td>strikeout</td>\n",
       "    </tr>\n",
       "    <tr>\n",
       "      <th>500964</th>\n",
       "      <td>595281</td>\n",
       "      <td>661395</td>\n",
       "      <td>69</td>\n",
       "      <td>0</td>\n",
       "      <td>2</td>\n",
       "      <td>0.060166</td>\n",
       "      <td>0.325581</td>\n",
       "      <td>strikeout</td>\n",
       "    </tr>\n",
       "    <tr>\n",
       "      <th>500963</th>\n",
       "      <td>656305</td>\n",
       "      <td>661395</td>\n",
       "      <td>70</td>\n",
       "      <td>0</td>\n",
       "      <td>0</td>\n",
       "      <td>0.084354</td>\n",
       "      <td>0.325581</td>\n",
       "      <td>strikeout</td>\n",
       "    </tr>\n",
       "    <tr>\n",
       "      <th>500962</th>\n",
       "      <td>656305</td>\n",
       "      <td>661395</td>\n",
       "      <td>70</td>\n",
       "      <td>0</td>\n",
       "      <td>1</td>\n",
       "      <td>0.084354</td>\n",
       "      <td>0.325581</td>\n",
       "      <td>strikeout</td>\n",
       "    </tr>\n",
       "    <tr>\n",
       "      <th>500961</th>\n",
       "      <td>656305</td>\n",
       "      <td>661395</td>\n",
       "      <td>70</td>\n",
       "      <td>1</td>\n",
       "      <td>1</td>\n",
       "      <td>0.084354</td>\n",
       "      <td>0.325581</td>\n",
       "      <td>strikeout</td>\n",
       "    </tr>\n",
       "    <tr>\n",
       "      <th>500960</th>\n",
       "      <td>656305</td>\n",
       "      <td>661395</td>\n",
       "      <td>70</td>\n",
       "      <td>1</td>\n",
       "      <td>2</td>\n",
       "      <td>0.084354</td>\n",
       "      <td>0.325581</td>\n",
       "      <td>strikeout</td>\n",
       "    </tr>\n",
       "    <tr>\n",
       "      <th>500959</th>\n",
       "      <td>543807</td>\n",
       "      <td>661395</td>\n",
       "      <td>72</td>\n",
       "      <td>0</td>\n",
       "      <td>0</td>\n",
       "      <td>0.073418</td>\n",
       "      <td>0.325581</td>\n",
       "      <td>field_out</td>\n",
       "    </tr>\n",
       "  </tbody>\n",
       "</table>\n",
       "</div>"
      ],
      "text/plain": [
       "        batter  pitcher  at_bat_number  balls  strikes  batter_walk_rate  \\\n",
       "500946  596146   663855             64      0        0          0.075972   \n",
       "500947  596146   663855             64      0        1          0.075972   \n",
       "500948  596146   663855             64      0        2          0.075972   \n",
       "500949  621043   663855             66      0        0          0.083807   \n",
       "500950  621043   663855             66      1        0          0.083807   \n",
       "500951  621043   663855             66      1        1          0.083807   \n",
       "500952  621043   663855             66      2        1          0.083807   \n",
       "500953  680777   663855             67      0        0          0.078481   \n",
       "500958  680777   663855             67      0        1          0.078481   \n",
       "500957  680777   663855             67      0        2          0.078481   \n",
       "500956  680777   663855             67      1        2          0.078481   \n",
       "500955  680777   663855             67      2        2          0.078481   \n",
       "500954  680777   663855             67      3        2          0.078481   \n",
       "500965  595281   661395             69      0        0          0.060166   \n",
       "500966  595281   661395             69      0        1          0.060166   \n",
       "500964  595281   661395             69      0        2          0.060166   \n",
       "500963  656305   661395             70      0        0          0.084354   \n",
       "500962  656305   661395             70      0        1          0.084354   \n",
       "500961  656305   661395             70      1        1          0.084354   \n",
       "500960  656305   661395             70      1        2          0.084354   \n",
       "500959  543807   661395             72      0        0          0.073418   \n",
       "\n",
       "        pitcher_strikeout_percentage at_bat_result  \n",
       "500946                      0.283217     strikeout  \n",
       "500947                      0.283217     strikeout  \n",
       "500948                      0.283217     strikeout  \n",
       "500949                      0.283217        single  \n",
       "500950                      0.283217        single  \n",
       "500951                      0.283217        single  \n",
       "500952                      0.283217        single  \n",
       "500953                      0.283217          walk  \n",
       "500958                      0.283217          walk  \n",
       "500957                      0.283217          walk  \n",
       "500956                      0.283217          walk  \n",
       "500955                      0.283217          walk  \n",
       "500954                      0.283217          walk  \n",
       "500965                      0.325581     strikeout  \n",
       "500966                      0.325581     strikeout  \n",
       "500964                      0.325581     strikeout  \n",
       "500963                      0.325581     strikeout  \n",
       "500962                      0.325581     strikeout  \n",
       "500961                      0.325581     strikeout  \n",
       "500960                      0.325581     strikeout  \n",
       "500959                      0.325581     field_out  "
      ]
     },
     "execution_count": 57,
     "metadata": {},
     "output_type": "execute_result"
    }
   ],
   "source": [
    "df.sort_values([\"game_pk\",'at_bat_number',\n",
    "       'pitch_number'])[[ 'batter', 'pitcher',\"at_bat_number\", 'balls', 'strikes', 'batter_walk_rate','pitcher_strikeout_percentage','at_bat_result']].tail(21)"
   ]
  },
  {
   "cell_type": "code",
   "execution_count": null,
   "id": "bd779872",
   "metadata": {},
   "outputs": [],
   "source": []
  },
  {
   "cell_type": "code",
   "execution_count": null,
   "id": "07a7fae1",
   "metadata": {},
   "outputs": [],
   "source": []
  }
 ],
 "metadata": {
  "kernelspec": {
   "display_name": "Python 3 (ipykernel)",
   "language": "python",
   "name": "python3"
  },
  "language_info": {
   "codemirror_mode": {
    "name": "ipython",
    "version": 3
   },
   "file_extension": ".py",
   "mimetype": "text/x-python",
   "name": "python",
   "nbconvert_exporter": "python",
   "pygments_lexer": "ipython3",
   "version": "3.11.4"
  }
 },
 "nbformat": 4,
 "nbformat_minor": 5
}
