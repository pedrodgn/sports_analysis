{
 "cells": [
  {
   "cell_type": "code",
   "execution_count": 1,
   "id": "8f1e0378",
   "metadata": {},
   "outputs": [],
   "source": [
    "import statsapi\n",
    "import pandas as pd\n",
    "from pybaseball import statcast\n",
    "from tqdm import tqdm\n",
    "import time"
   ]
  },
  {
   "cell_type": "code",
   "execution_count": 2,
   "id": "de4439a2",
   "metadata": {},
   "outputs": [],
   "source": [
    "data_dir = \"./datasets/\""
   ]
  },
  {
   "cell_type": "code",
   "execution_count": null,
   "id": "c61928dc",
   "metadata": {},
   "outputs": [],
   "source": []
  },
  {
   "cell_type": "code",
   "execution_count": null,
   "id": "1afff875",
   "metadata": {},
   "outputs": [],
   "source": []
  },
  {
   "cell_type": "code",
   "execution_count": 3,
   "id": "7d8baf89",
   "metadata": {},
   "outputs": [],
   "source": [
    "schedule_2023 = pd.DataFrame(statsapi.schedule(start_date=\"03/25/2023\",end_date=\"12/31/2023\"))\n",
    "schedule_2024 = pd.DataFrame(statsapi.schedule(start_date=\"03/25/2024\",end_date=\"12/31/2024\"))\n",
    "\n",
    "schedule = pd.concat([schedule_2023,schedule_2024])\n",
    "schedule['game_date'] = pd.to_datetime(schedule['game_date'])\n",
    "schedule = schedule[schedule['status'].str.contains('Final')|schedule['status'].str.contains('Completed')]\n",
    "schedule = schedule[schedule[\"game_type\"]!=\"S\"]"
   ]
  },
  {
   "cell_type": "code",
   "execution_count": 4,
   "id": "da81d412",
   "metadata": {},
   "outputs": [],
   "source": [
    "schedule[\"season\"] = schedule[\"game_date\"].apply(lambda x: int(str(x)[:4]))"
   ]
  },
  {
   "cell_type": "code",
   "execution_count": null,
   "id": "01ab13c8",
   "metadata": {},
   "outputs": [],
   "source": []
  },
  {
   "cell_type": "code",
   "execution_count": 13,
   "id": "3b185da4",
   "metadata": {},
   "outputs": [
    {
     "name": "stderr",
     "output_type": "stream",
     "text": [
      "55it [01:19,  1.45s/it]\n"
     ]
    }
   ],
   "source": [
    "mlb_batting_dataframe = pd.DataFrame()\n",
    "mlb_pitching_dataframe = pd.DataFrame()\n",
    "player_id_name = pd.DataFrame()\n",
    "\n",
    "\n",
    "for i,row in tqdm(schedule.drop_duplicates(subset=['game_id']).iterrows()): \n",
    "    \n",
    "    \n",
    "\n",
    "    boxscore_dict = statsapi.boxscore_data(row['game_id'], timecode=None)\n",
    "    \n",
    "    local_player_id_name = pd.DataFrame(boxscore_dict['playerInfo']).T\n",
    "    \n",
    "    away_batters = pd.DataFrame(boxscore_dict['awayBatters'])\n",
    "    away_batters['team_id'] = row['away_id']\n",
    "    home_batters = pd.DataFrame(boxscore_dict['homeBatters'])\n",
    "    home_batters['team_id'] = row['home_id']\n",
    "\n",
    "    local_batters = pd.concat([home_batters,away_batters])\n",
    "\n",
    "\n",
    "    away_pitchers = pd.DataFrame(boxscore_dict['awayPitchers'])\n",
    "    away_pitchers['team_id'] = row['away_id']\n",
    "    home_pitchers = pd.DataFrame(boxscore_dict['homePitchers'])\n",
    "    home_pitchers['team_id'] = row['home_id']\n",
    "    \n",
    "    local_pitchers = pd.concat([home_pitchers,away_pitchers])\n",
    "\n",
    "    local_batters['game_date'] = row['game_date']\n",
    "    local_batters['game_id'] = row['game_id']\n",
    "    local_batters['season'] = row['season']\n",
    "    \n",
    "    \n",
    "    local_pitchers['game_date'] = row['game_date']\n",
    "    local_pitchers['game_id'] = row['game_id']\n",
    "    local_pitchers['season'] = row['season']    \n",
    "    \n",
    "    mlb_batting_dataframe = pd.concat([mlb_batting_dataframe,local_batters])\n",
    "    mlb_pitching_dataframe = pd.concat([mlb_pitching_dataframe,local_pitchers])\n",
    "    player_id_name = pd.concat([player_id_name,local_player_id_name]).drop_duplicates()\n",
    "    \n",
    "    time.sleep(1)\n"
   ]
  },
  {
   "cell_type": "code",
   "execution_count": null,
   "id": "e170bffc",
   "metadata": {},
   "outputs": [],
   "source": []
  },
  {
   "cell_type": "code",
   "execution_count": 14,
   "id": "ccd6d648",
   "metadata": {},
   "outputs": [],
   "source": [
    "mlb_pitching_dataframe = mlb_pitching_dataframe[~mlb_pitching_dataframe[\"h\"].str.contains(\"H\")]\n",
    "mlb_batting_dataframe = mlb_batting_dataframe[~mlb_batting_dataframe[\"h\"].str.contains(\"H\")]"
   ]
  },
  {
   "cell_type": "code",
   "execution_count": null,
   "id": "02fd8ad7",
   "metadata": {},
   "outputs": [],
   "source": []
  },
  {
   "cell_type": "code",
   "execution_count": null,
   "id": "95927d03",
   "metadata": {},
   "outputs": [],
   "source": [
    "mlb_batting_dataframe.to_csv(data_dir+\"mlb_batting_dataframe.csv\",index=False)\n",
    "mlb_pitching_dataframe.to_csv(data_dir+\"mlb_pitching_dataframe.csv\",index=False)\n",
    "player_id_name.to_csv(data_dir+\"player_id_name.csv\",index=False)"
   ]
  },
  {
   "cell_type": "code",
   "execution_count": null,
   "id": "5ad65f23",
   "metadata": {},
   "outputs": [],
   "source": []
  },
  {
   "cell_type": "code",
   "execution_count": null,
   "id": "027e3349",
   "metadata": {},
   "outputs": [],
   "source": []
  },
  {
   "cell_type": "code",
   "execution_count": null,
   "id": "d88aaeab",
   "metadata": {
    "scrolled": true
   },
   "outputs": [],
   "source": [
    "pitchDF_2023 = statcast(start_dt=\"2023-03-30\", end_dt=\"2023-12-30\")\n",
    "pitchDF_2024 = statcast(start_dt=\"2024-03-30\", end_dt=\"2024-12-30\")"
   ]
  },
  {
   "cell_type": "code",
   "execution_count": null,
   "id": "20bd0e54",
   "metadata": {},
   "outputs": [],
   "source": [
    "pitchDF = pd.concat([pitchDF_2023,pitchDF_2024])"
   ]
  },
  {
   "cell_type": "code",
   "execution_count": null,
   "id": "d991c9b6",
   "metadata": {},
   "outputs": [],
   "source": [
    "pitchDF = pitchDF[['game_date',\"game_pk\",'batter', 'pitcher','events',\n",
    "       'description', 'zone','pitch_type',  'balls', 'strikes','game_year','on_3b', 'on_2b', 'on_1b',\n",
    "        'outs_when_up', 'hit_distance_sc', 'launch_speed', 'launch_angle', 'effective_speed','estimated_ba_using_speedangle', 'estimated_woba_using_speedangle',\n",
    "       'woba_value', 'woba_denom', 'babip_value', 'iso_value',\n",
    "       'launch_speed_angle', 'at_bat_number', 'pitch_number',]]"
   ]
  },
  {
   "cell_type": "code",
   "execution_count": null,
   "id": "5fa2934d",
   "metadata": {},
   "outputs": [],
   "source": []
  },
  {
   "cell_type": "code",
   "execution_count": null,
   "id": "f44b54b6",
   "metadata": {},
   "outputs": [],
   "source": [
    "pitchDF.to_csv(data_dir+\"pitchDF.csv\",index=False)"
   ]
  },
  {
   "cell_type": "code",
   "execution_count": null,
   "id": "9fb2c510",
   "metadata": {},
   "outputs": [],
   "source": []
  },
  {
   "cell_type": "code",
   "execution_count": null,
   "id": "86810971",
   "metadata": {},
   "outputs": [],
   "source": []
  },
  {
   "cell_type": "code",
   "execution_count": null,
   "id": "f711016d",
   "metadata": {},
   "outputs": [],
   "source": []
  }
 ],
 "metadata": {
  "kernelspec": {
   "display_name": "Python 3 (ipykernel)",
   "language": "python",
   "name": "python3"
  },
  "language_info": {
   "codemirror_mode": {
    "name": "ipython",
    "version": 3
   },
   "file_extension": ".py",
   "mimetype": "text/x-python",
   "name": "python",
   "nbconvert_exporter": "python",
   "pygments_lexer": "ipython3",
   "version": "3.11.4"
  }
 },
 "nbformat": 4,
 "nbformat_minor": 5
}
