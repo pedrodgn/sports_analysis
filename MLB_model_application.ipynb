{
 "cells": [
  {
   "cell_type": "code",
   "execution_count": 3,
   "id": "ff4b3798",
   "metadata": {},
   "outputs": [],
   "source": [
    "import joblib\n",
    "import pandas as pd\n",
    "import warnings\n",
    "warnings.filterwarnings(\"ignore\")\n",
    "import matplotlib.pyplot as plt\n",
    "import plotly.express as px\n",
    "import plotly.graph_objects as go"
   ]
  },
  {
   "cell_type": "code",
   "execution_count": 4,
   "id": "2da37d23",
   "metadata": {},
   "outputs": [],
   "source": [
    "data_dir = \"./datasets/\""
   ]
  },
  {
   "cell_type": "code",
   "execution_count": 5,
   "id": "9676e36e",
   "metadata": {},
   "outputs": [],
   "source": [
    "df = pd.read_csv(data_dir+\"pitchdf_ready_preds.csv\")\n",
    "player_id_name = pd.read_csv(data_dir+\"player_id_name.csv\")\n",
    "player_id_name_dict = dict(zip(list(player_id_name[\"id\"].values),list(player_id_name[\"fullName\"].values)))"
   ]
  },
  {
   "cell_type": "code",
   "execution_count": 6,
   "id": "31c1951f",
   "metadata": {},
   "outputs": [],
   "source": [
    "df = df[(df[\"1_day_lag_season_sum_ab\"]>50)&(df[\"pitcher_total_batters_faced\"]>80)]"
   ]
  },
  {
   "cell_type": "code",
   "execution_count": 7,
   "id": "55485060",
   "metadata": {},
   "outputs": [],
   "source": [
    "df[\"batter_name\"] = df[\"batter\"].apply(lambda x: player_id_name_dict[x])\n",
    "df[\"pitcher_name\"] = df[\"pitcher\"].apply(lambda x: player_id_name_dict[x])"
   ]
  },
  {
   "cell_type": "code",
   "execution_count": null,
   "id": "a9d2313c",
   "metadata": {},
   "outputs": [],
   "source": []
  },
  {
   "cell_type": "code",
   "execution_count": 8,
   "id": "9576a034",
   "metadata": {},
   "outputs": [],
   "source": [
    "at_bat_result_dict = {0: 'single',\n",
    " 1: 'double_triple',\n",
    " 2: 'home_run',\n",
    " 3: 'walk',\n",
    " 4: 'field_out',\n",
    " 5: 'strikeout'}"
   ]
  },
  {
   "cell_type": "code",
   "execution_count": 9,
   "id": "f1af5c01",
   "metadata": {},
   "outputs": [],
   "source": [
    "features = ['balls', 'strikes', 'on_3b', 'on_2b', 'on_1b', 'outs_when_up',\n",
    "            'batter_walk_rate', 'batter_strikeout_rate',\n",
    "            'batter_singles_average',\n",
    "                                    'batter_home_run_average',\n",
    "           'pitcher_walk_rate', 'pitcher_strikeout_percentage',\n",
    "       'pitcher_batting_average_against', 'pitcher_home_run_average']"
   ]
  },
  {
   "cell_type": "code",
   "execution_count": 10,
   "id": "bf4c3d47",
   "metadata": {},
   "outputs": [],
   "source": [
    "batter_df_reduced = df[df[\"game_date\"]>=\"2024-01-01\"].dropna(subset=features).sort_values(\"game_date\").drop_duplicates(subset=[\"batter\"],keep=\"last\")\n",
    "pitcher_df_reduced = df[df[\"game_date\"]>=\"2024-01-01\"].dropna(subset=features).sort_values(\"game_date\").drop_duplicates(subset=[\"pitcher\"],keep=\"last\")"
   ]
  },
  {
   "cell_type": "code",
   "execution_count": null,
   "id": "0c6d39e3",
   "metadata": {},
   "outputs": [],
   "source": []
  },
  {
   "cell_type": "code",
   "execution_count": null,
   "id": "d201b783",
   "metadata": {},
   "outputs": [],
   "source": []
  },
  {
   "cell_type": "code",
   "execution_count": 11,
   "id": "8740ed94",
   "metadata": {},
   "outputs": [],
   "source": [
    "pitcher_df_reduced[[\"pitcher_name\",'pitcher_walk_rate', 'pitcher_era', 'pitcher_strikeout_percentage',\n",
    "       'pitcher_batting_average_against', 'pitcher_home_run_average',\n",
    "       'pitcher_total_batters_faced']].to_csv(\"pitcher_reduced.csv\",index=False)"
   ]
  },
  {
   "cell_type": "code",
   "execution_count": 12,
   "id": "5c41b228",
   "metadata": {},
   "outputs": [],
   "source": [
    "batter_df_reduced[['batter_name', 'batter_batting_average', 'batter_walk_rate', 'batter_strikeout_rate',\n",
    "       'batter_contact_rate', 'batter_slugging_percent',\n",
    "       'batter_on_base_percentage', 'batter_whiff_rate',\n",
    "       'batter_singles_average', 'batter_doubles_triple_average',\n",
    "       'batter_home_run_average']].to_csv(\"batter_reduced.csv\")"
   ]
  },
  {
   "cell_type": "code",
   "execution_count": 13,
   "id": "9ddfd15f",
   "metadata": {},
   "outputs": [],
   "source": [
    "model = joblib.load('best_xgboost_model.pkl')"
   ]
  },
  {
   "cell_type": "code",
   "execution_count": 14,
   "id": "51dbbf23",
   "metadata": {},
   "outputs": [
    {
     "data": {
      "text/plain": [
       "Index(['game_date', 'game_pk', 'batter', 'pitcher', 'events', 'description',\n",
       "       'zone', 'pitch_type', 'balls', 'strikes', 'game_year', 'on_3b', 'on_2b',\n",
       "       'on_1b', 'outs_when_up', 'hit_distance_sc', 'launch_speed',\n",
       "       'launch_angle', 'effective_speed', 'estimated_ba_using_speedangle',\n",
       "       'estimated_woba_using_speedangle', 'woba_value', 'woba_denom',\n",
       "       'babip_value', 'iso_value', 'launch_speed_angle', 'at_bat_number',\n",
       "       'pitch_number', 'swinging_strike', 'hit_into_play', 'foul',\n",
       "       'batter_batting_average', 'batter_walk_rate', 'batter_strikeout_rate',\n",
       "       'batter_contact_rate', 'batter_slugging_percent',\n",
       "       'batter_on_base_percentage', 'batter_whiff_rate',\n",
       "       'batter_singles_average', 'batter_doubles_triple_average',\n",
       "       'batter_home_run_average', '1_day_lag_season_sum_ab',\n",
       "       'pitcher_walk_rate', 'pitcher_era', 'pitcher_strikeout_percentage',\n",
       "       'pitcher_batting_average_against', 'pitcher_home_run_average',\n",
       "       'pitcher_total_batters_faced', 'batter_name', 'pitcher_name'],\n",
       "      dtype='object')"
      ]
     },
     "execution_count": 14,
     "metadata": {},
     "output_type": "execute_result"
    }
   ],
   "source": [
    "pitcher_df_reduced.columns"
   ]
  },
  {
   "cell_type": "code",
   "execution_count": null,
   "id": "ffc18022",
   "metadata": {},
   "outputs": [],
   "source": []
  },
  {
   "cell_type": "code",
   "execution_count": 15,
   "id": "1c676783",
   "metadata": {},
   "outputs": [
    {
     "data": {
      "text/html": [
       "<div>\n",
       "<style scoped>\n",
       "    .dataframe tbody tr th:only-of-type {\n",
       "        vertical-align: middle;\n",
       "    }\n",
       "\n",
       "    .dataframe tbody tr th {\n",
       "        vertical-align: top;\n",
       "    }\n",
       "\n",
       "    .dataframe thead th {\n",
       "        text-align: right;\n",
       "    }\n",
       "</style>\n",
       "<table border=\"1\" class=\"dataframe\">\n",
       "  <thead>\n",
       "    <tr style=\"text-align: right;\">\n",
       "      <th></th>\n",
       "      <th>pitcher_walk_rate</th>\n",
       "      <th>pitcher_era</th>\n",
       "      <th>pitcher_strikeout_percentage</th>\n",
       "      <th>pitcher_batting_average_against</th>\n",
       "      <th>pitcher_home_run_average</th>\n",
       "      <th>pitcher_total_batters_faced</th>\n",
       "    </tr>\n",
       "  </thead>\n",
       "  <tbody>\n",
       "    <tr>\n",
       "      <th>1415784</th>\n",
       "      <td>0.091346</td>\n",
       "      <td>3.290993</td>\n",
       "      <td>0.394231</td>\n",
       "      <td>0.158654</td>\n",
       "      <td>0.033654</td>\n",
       "      <td>208.0</td>\n",
       "    </tr>\n",
       "  </tbody>\n",
       "</table>\n",
       "</div>"
      ],
      "text/plain": [
       "         pitcher_walk_rate  pitcher_era  pitcher_strikeout_percentage  \\\n",
       "1415784           0.091346     3.290993                      0.394231   \n",
       "\n",
       "         pitcher_batting_average_against  pitcher_home_run_average  \\\n",
       "1415784                         0.158654                  0.033654   \n",
       "\n",
       "         pitcher_total_batters_faced  \n",
       "1415784                        208.0  "
      ]
     },
     "execution_count": 15,
     "metadata": {},
     "output_type": "execute_result"
    }
   ],
   "source": [
    "pitcher_df_reduced[\n",
    "        (pitcher_df_reduced['pitcher_name'] == \"Edwin Díaz\")][[ 'pitcher_walk_rate', 'pitcher_era', 'pitcher_strikeout_percentage',\n",
    "       'pitcher_batting_average_against', 'pitcher_home_run_average',\n",
    "       'pitcher_total_batters_faced',]]"
   ]
  },
  {
   "cell_type": "code",
   "execution_count": null,
   "id": "52b8aeb6",
   "metadata": {},
   "outputs": [],
   "source": []
  },
  {
   "cell_type": "code",
   "execution_count": 16,
   "id": "58c879b9",
   "metadata": {},
   "outputs": [
    {
     "data": {
      "text/html": [
       "<div>\n",
       "<style scoped>\n",
       "    .dataframe tbody tr th:only-of-type {\n",
       "        vertical-align: middle;\n",
       "    }\n",
       "\n",
       "    .dataframe tbody tr th {\n",
       "        vertical-align: top;\n",
       "    }\n",
       "\n",
       "    .dataframe thead th {\n",
       "        text-align: right;\n",
       "    }\n",
       "</style>\n",
       "<table border=\"1\" class=\"dataframe\">\n",
       "  <thead>\n",
       "    <tr style=\"text-align: right;\">\n",
       "      <th></th>\n",
       "      <th>batter_walk_rate</th>\n",
       "      <th>batter_strikeout_rate</th>\n",
       "      <th>batter_singles_average</th>\n",
       "      <th>batter_doubles_triple_average</th>\n",
       "      <th>batter_home_run_average</th>\n",
       "    </tr>\n",
       "  </thead>\n",
       "  <tbody>\n",
       "    <tr>\n",
       "      <th>1423256</th>\n",
       "      <td>0.155556</td>\n",
       "      <td>0.194152</td>\n",
       "      <td>0.152878</td>\n",
       "      <td>0.066547</td>\n",
       "      <td>0.104317</td>\n",
       "    </tr>\n",
       "  </tbody>\n",
       "</table>\n",
       "</div>"
      ],
      "text/plain": [
       "         batter_walk_rate  batter_strikeout_rate  batter_singles_average  \\\n",
       "1423256          0.155556               0.194152                0.152878   \n",
       "\n",
       "         batter_doubles_triple_average  batter_home_run_average  \n",
       "1423256                       0.066547                 0.104317  "
      ]
     },
     "execution_count": 16,
     "metadata": {},
     "output_type": "execute_result"
    }
   ],
   "source": [
    "batter_df_reduced[\n",
    "        (batter_df_reduced['batter_name'] == \"Aaron Judge\")][['batter_walk_rate',\n",
    "         'batter_strikeout_rate',\n",
    "         'batter_singles_average',\n",
    "         'batter_doubles_triple_average',\n",
    "         'batter_home_run_average',]]"
   ]
  },
  {
   "cell_type": "code",
   "execution_count": null,
   "id": "a274a8bb",
   "metadata": {},
   "outputs": [],
   "source": []
  },
  {
   "cell_type": "code",
   "execution_count": 17,
   "id": "082eb2c8",
   "metadata": {},
   "outputs": [
    {
     "data": {
      "text/html": [
       "<div>\n",
       "<style scoped>\n",
       "    .dataframe tbody tr th:only-of-type {\n",
       "        vertical-align: middle;\n",
       "    }\n",
       "\n",
       "    .dataframe tbody tr th {\n",
       "        vertical-align: top;\n",
       "    }\n",
       "\n",
       "    .dataframe thead th {\n",
       "        text-align: right;\n",
       "    }\n",
       "</style>\n",
       "<table border=\"1\" class=\"dataframe\">\n",
       "  <thead>\n",
       "    <tr style=\"text-align: right;\">\n",
       "      <th></th>\n",
       "      <th>pitcher_walk_rate</th>\n",
       "      <th>pitcher_strikeout_percentage</th>\n",
       "      <th>pitcher_batting_average_against</th>\n",
       "      <th>pitcher_home_run_average</th>\n",
       "    </tr>\n",
       "  </thead>\n",
       "  <tbody>\n",
       "    <tr>\n",
       "      <th>735350</th>\n",
       "      <td>0.046448</td>\n",
       "      <td>0.301913</td>\n",
       "      <td>0.191257</td>\n",
       "      <td>0.020492</td>\n",
       "    </tr>\n",
       "  </tbody>\n",
       "</table>\n",
       "</div>"
      ],
      "text/plain": [
       "        pitcher_walk_rate  pitcher_strikeout_percentage  \\\n",
       "735350           0.046448                      0.301913   \n",
       "\n",
       "        pitcher_batting_average_against  pitcher_home_run_average  \n",
       "735350                         0.191257                  0.020492  "
      ]
     },
     "execution_count": 17,
     "metadata": {},
     "output_type": "execute_result"
    }
   ],
   "source": [
    "pitcher_df_reduced[\n",
    "        (pitcher_df_reduced['pitcher_name'] == \"Tarik Skubal\")][['pitcher_walk_rate',\n",
    "     'pitcher_strikeout_percentage',\n",
    "     'pitcher_batting_average_against',\n",
    "     'pitcher_home_run_average']]"
   ]
  },
  {
   "cell_type": "code",
   "execution_count": null,
   "id": "6559e03b",
   "metadata": {},
   "outputs": [],
   "source": []
  },
  {
   "cell_type": "code",
   "execution_count": 22,
   "id": "f0963b04",
   "metadata": {},
   "outputs": [],
   "source": []
  },
  {
   "cell_type": "code",
   "execution_count": null,
   "id": "d5b9c7f1",
   "metadata": {},
   "outputs": [],
   "source": []
  },
  {
   "cell_type": "code",
   "execution_count": 59,
   "id": "2fb6ddf3",
   "metadata": {},
   "outputs": [],
   "source": [
    "def plot_probabilities(batter_name, pitcher_name, balls, strikes, on_3b, on_2b, on_1b, outs_when_up):\n",
    "    # Filter dataframe based on selected batter and pitcher\n",
    "    batter_filtered_df = batter_df_reduced[(batter_df_reduced['batter_name'] == batter_name)][[\n",
    "        'batter_batting_average', 'batter_on_base_percentage', 'batter_slugging_percent', \n",
    "        'batter_walk_rate', 'batter_strikeout_rate','batter_singles_average', 'batter_home_run_average']].reset_index(drop=True)\n",
    "    \n",
    "    pitcher_filtered_df = pitcher_df_reduced[(pitcher_df_reduced['pitcher_name'] == pitcher_name)][[\n",
    "        'pitcher_walk_rate', 'pitcher_era', 'pitcher_strikeout_percentage', \n",
    "        'pitcher_batting_average_against','pitcher_home_run_average']].reset_index(drop=True)\n",
    "    \n",
    "    \n",
    "    # Get max values for each stat column from the dataframe (for normalization)\n",
    "    batter_max_values = {\n",
    "        'batter_batting_average': batter_df_reduced['batter_batting_average'].max(),\n",
    "        'batter_on_base_percentage': batter_df_reduced['batter_on_base_percentage'].max(),\n",
    "        'batter_slugging_percent': batter_df_reduced['batter_slugging_percent'].max(),\n",
    "        'batter_walk_rate': batter_df_reduced['batter_walk_rate'].max(),\n",
    "        'batter_strikeout_rate': batter_df_reduced['batter_strikeout_rate'].max()\n",
    "    }\n",
    "\n",
    "    pitcher_max_values = {\n",
    "        'pitcher_walk_rate': pitcher_df_reduced['pitcher_walk_rate'].max(),\n",
    "        'pitcher_era': pitcher_df_reduced['pitcher_era'].max(),\n",
    "        'pitcher_strikeout_percentage': pitcher_df_reduced['pitcher_strikeout_percentage'].max(),\n",
    "        'pitcher_batting_average_against': pitcher_df_reduced['pitcher_batting_average_against'].max()\n",
    "    }\n",
    "    \n",
    "    # Combine batter and pitcher data\n",
    "    filtered_df = pd.concat([batter_filtered_df, pitcher_filtered_df], axis=1)\n",
    "    filtered_df['balls'] = balls\n",
    "    filtered_df['strikes'] = strikes\n",
    "    filtered_df['on_3b'] = on_3b\n",
    "    filtered_df['on_2b'] = on_2b\n",
    "    filtered_df['on_1b'] = on_1b\n",
    "    filtered_df['outs_when_up'] = outs_when_up\n",
    "\n",
    "    # Prepare the input for the model\n",
    "    filtered_df = filtered_df[features]\n",
    "    predict_proba_list = model.predict_proba(filtered_df)\n",
    "\n",
    "    # Get class labels\n",
    "    outcomes = list(at_bat_result_dict.values())\n",
    "    \n",
    "    # Prepare data for visualization\n",
    "    proba_df = pd.DataFrame({\n",
    "        'at_bat_result': outcomes,\n",
    "        'probability': predict_proba_list[0]  # Assuming the first row\n",
    "    })\n",
    "    proba_df['probability'] = proba_df['probability'].apply(lambda x: round(x*100, 2))\n",
    "\n",
    "    # Create probability bar chart\n",
    "    prob_plot = px.bar(proba_df, x='at_bat_result', y='probability',\n",
    "                       title=f\"Probabilities of At-Bat Outcomes for {batter_name} vs {pitcher_name}\",\n",
    "                       labels={'at_bat_result': 'At-Bat Result', 'probability': 'Probability'})\n",
    "\n",
    "    ### Radar plot for batter stats ###\n",
    "    batter_stats = batter_filtered_df.iloc[0].values\n",
    "    batter_stats_normalized = [\n",
    "        batter_stats[0] / batter_max_values['batter_batting_average'],\n",
    "        batter_stats[1] / batter_max_values['batter_on_base_percentage'],\n",
    "        batter_stats[2] / batter_max_values['batter_slugging_percent'],\n",
    "        batter_stats[3] / batter_max_values['batter_walk_rate'],\n",
    "        (batter_max_values['batter_strikeout_rate']-batter_stats[4]) / batter_max_values['batter_strikeout_rate']\n",
    "    ]\n",
    "    batter_categories = ['Batting Avg', 'OBP', 'Slugging %', 'Walk Rate', 'Strikeout Rate']\n",
    "    \n",
    "    batter_plot = go.Figure()\n",
    "    batter_plot.add_trace(go.Scatterpolar(\n",
    "        r=batter_stats_normalized, \n",
    "        theta=batter_categories, \n",
    "        fill='toself', \n",
    "        name='Batter Stats',\n",
    "        hovertemplate = (\n",
    "            f'Batting Avg: {batter_stats[0]:.3f}<br>' +\n",
    "            f'OBP: {batter_stats[1]:.3f}<br>' +\n",
    "            f'Slugging %: {batter_stats[2]:.3f}<br>' +\n",
    "            f'Walk Rate: {batter_stats[3]*100:.2f}%<br>' +\n",
    "            f'Strikeout Rate: {batter_stats[4]*100:.2f}%<br>'\n",
    "        )\n",
    "    ))\n",
    "\n",
    "    batter_plot.update_layout(\n",
    "        polar=dict(radialaxis=dict(visible=False, range=[0, 1])),\n",
    "        title=f\"{batter_name} - Batter Stats Radar\",\n",
    "        showlegend=False\n",
    "    )\n",
    "\n",
    "    ### Radar plot for pitcher stats ###\n",
    "    pitcher_stats = pitcher_filtered_df.iloc[0].values\n",
    "    pitcher_stats_normalized = [\n",
    "        (pitcher_max_values['pitcher_walk_rate']-pitcher_stats[0]) / pitcher_max_values['pitcher_walk_rate'],\n",
    "        (5 - pitcher_stats[1]) / 5,  # Inverse for ERA (since lower is better)\n",
    "        pitcher_stats[2] / pitcher_max_values['pitcher_strikeout_percentage'],\n",
    "        (pitcher_max_values['pitcher_batting_average_against']-pitcher_stats[3]) / pitcher_max_values['pitcher_batting_average_against']\n",
    "    ]\n",
    "    pitcher_categories = ['Walk Rate', 'ERA', 'Strikeout %', 'BA Against']\n",
    "\n",
    "    pitcher_plot = go.Figure()\n",
    "    pitcher_plot.add_trace(go.Scatterpolar(\n",
    "        r=pitcher_stats_normalized, \n",
    "        theta=pitcher_categories, \n",
    "        fill='toself', \n",
    "        name='Pitcher Stats',\n",
    "        hovertemplate = (\n",
    "            f'Walk Rate: {pitcher_stats[0]*100:.2f}%<br>' +\n",
    "            f'ERA: {pitcher_stats[1]:.2f}<br>' +\n",
    "            f'Strikeout %: {pitcher_stats[2]*100:.2f}%<br>' +\n",
    "            f'BA Against: {pitcher_stats[3]:.3f}<br>'\n",
    "        )\n",
    "    ))\n",
    "\n",
    "    pitcher_plot.update_layout(\n",
    "        polar=dict(radialaxis=dict(visible=False, range=[0, 1])),\n",
    "        title=f\"{pitcher_name} - Pitcher Stats Radar\",\n",
    "        showlegend=False\n",
    "    )\n",
    "    \n",
    "    prob_plot = prob_plot.to_html(full_html=False)\n",
    "    batter_plot = batter_plot.to_html(full_html=False)\n",
    "    pitcher_plot = pitcher_plot.to_html(full_html=False)\n",
    "    \n",
    "    return prob_plot, batter_plot, pitcher_plot\n"
   ]
  },
  {
   "cell_type": "code",
   "execution_count": null,
   "id": "8f02f346",
   "metadata": {},
   "outputs": [],
   "source": []
  },
  {
   "cell_type": "code",
   "execution_count": 56,
   "id": "9958bdc7",
   "metadata": {},
   "outputs": [
    {
     "data": {
      "text/plain": [
       "1416450    Luis Arraez\n",
       "Name: batter_name, dtype: object"
      ]
     },
     "execution_count": 56,
     "metadata": {},
     "output_type": "execute_result"
    }
   ],
   "source": [
    "batter_df_reduced[batter_df_reduced[\"batter_name\"].str.contains(\"Arrae\")][\"batter_name\"]"
   ]
  },
  {
   "cell_type": "code",
   "execution_count": null,
   "id": "e2feddb3",
   "metadata": {},
   "outputs": [],
   "source": []
  },
  {
   "cell_type": "code",
   "execution_count": null,
   "id": "31ced404",
   "metadata": {},
   "outputs": [],
   "source": []
  },
  {
   "cell_type": "code",
   "execution_count": null,
   "id": "202a4e44",
   "metadata": {},
   "outputs": [],
   "source": []
  },
  {
   "cell_type": "code",
   "execution_count": null,
   "id": "aa0b83e6",
   "metadata": {},
   "outputs": [],
   "source": []
  },
  {
   "cell_type": "code",
   "execution_count": null,
   "id": "3fb7e00f",
   "metadata": {},
   "outputs": [],
   "source": []
  },
  {
   "cell_type": "code",
   "execution_count": null,
   "id": "2de53b88",
   "metadata": {},
   "outputs": [],
   "source": []
  },
  {
   "cell_type": "code",
   "execution_count": 20,
   "id": "faf14be4",
   "metadata": {},
   "outputs": [
    {
     "data": {
      "text/plain": [
       "Index(['game_date', 'game_pk', 'batter', 'pitcher', 'events', 'description',\n",
       "       'zone', 'pitch_type', 'balls', 'strikes', 'game_year', 'on_3b', 'on_2b',\n",
       "       'on_1b', 'outs_when_up', 'hit_distance_sc', 'launch_speed',\n",
       "       'launch_angle', 'effective_speed', 'estimated_ba_using_speedangle',\n",
       "       'estimated_woba_using_speedangle', 'woba_value', 'woba_denom',\n",
       "       'babip_value', 'iso_value', 'launch_speed_angle', 'at_bat_number',\n",
       "       'pitch_number', 'swinging_strike', 'hit_into_play', 'foul',\n",
       "       'batter_batting_average', 'batter_walk_rate', 'batter_strikeout_rate',\n",
       "       'batter_contact_rate', 'batter_slugging_percent',\n",
       "       'batter_on_base_percentage', 'batter_whiff_rate',\n",
       "       'batter_singles_average', 'batter_doubles_triple_average',\n",
       "       'batter_home_run_average', '1_day_lag_season_sum_ab',\n",
       "       'pitcher_walk_rate', 'pitcher_era', 'pitcher_strikeout_percentage',\n",
       "       'pitcher_batting_average_against', 'pitcher_home_run_average',\n",
       "       'pitcher_total_batters_faced', 'batter_name', 'pitcher_name'],\n",
       "      dtype='object')"
      ]
     },
     "execution_count": 20,
     "metadata": {},
     "output_type": "execute_result"
    }
   ],
   "source": [
    "df.columns"
   ]
  },
  {
   "cell_type": "code",
   "execution_count": 21,
   "id": "bd6f6f47",
   "metadata": {},
   "outputs": [
    {
     "data": {
      "text/html": [
       "<div>\n",
       "<style scoped>\n",
       "    .dataframe tbody tr th:only-of-type {\n",
       "        vertical-align: middle;\n",
       "    }\n",
       "\n",
       "    .dataframe tbody tr th {\n",
       "        vertical-align: top;\n",
       "    }\n",
       "\n",
       "    .dataframe thead th {\n",
       "        text-align: right;\n",
       "    }\n",
       "</style>\n",
       "<table border=\"1\" class=\"dataframe\">\n",
       "  <thead>\n",
       "    <tr style=\"text-align: right;\">\n",
       "      <th></th>\n",
       "      <th>batter_name</th>\n",
       "      <th>balls</th>\n",
       "      <th>strikes</th>\n",
       "    </tr>\n",
       "  </thead>\n",
       "  <tbody>\n",
       "    <tr>\n",
       "      <th>0</th>\n",
       "      <td>Ketel Marte</td>\n",
       "      <td>2</td>\n",
       "      <td>2</td>\n",
       "    </tr>\n",
       "    <tr>\n",
       "      <th>1</th>\n",
       "      <td>Ketel Marte</td>\n",
       "      <td>1</td>\n",
       "      <td>2</td>\n",
       "    </tr>\n",
       "    <tr>\n",
       "      <th>2</th>\n",
       "      <td>Ketel Marte</td>\n",
       "      <td>1</td>\n",
       "      <td>1</td>\n",
       "    </tr>\n",
       "    <tr>\n",
       "      <th>3</th>\n",
       "      <td>Ketel Marte</td>\n",
       "      <td>1</td>\n",
       "      <td>0</td>\n",
       "    </tr>\n",
       "    <tr>\n",
       "      <th>4</th>\n",
       "      <td>Ketel Marte</td>\n",
       "      <td>0</td>\n",
       "      <td>0</td>\n",
       "    </tr>\n",
       "    <tr>\n",
       "      <th>...</th>\n",
       "      <td>...</td>\n",
       "      <td>...</td>\n",
       "      <td>...</td>\n",
       "    </tr>\n",
       "    <tr>\n",
       "      <th>1431874</th>\n",
       "      <td>Bobby Witt Jr.</td>\n",
       "      <td>0</td>\n",
       "      <td>1</td>\n",
       "    </tr>\n",
       "    <tr>\n",
       "      <th>1431875</th>\n",
       "      <td>Bobby Witt Jr.</td>\n",
       "      <td>0</td>\n",
       "      <td>0</td>\n",
       "    </tr>\n",
       "    <tr>\n",
       "      <th>1431876</th>\n",
       "      <td>Tommy Pham</td>\n",
       "      <td>1</td>\n",
       "      <td>1</td>\n",
       "    </tr>\n",
       "    <tr>\n",
       "      <th>1431877</th>\n",
       "      <td>Tommy Pham</td>\n",
       "      <td>0</td>\n",
       "      <td>1</td>\n",
       "    </tr>\n",
       "    <tr>\n",
       "      <th>1431878</th>\n",
       "      <td>Tommy Pham</td>\n",
       "      <td>0</td>\n",
       "      <td>0</td>\n",
       "    </tr>\n",
       "  </tbody>\n",
       "</table>\n",
       "<p>873734 rows × 3 columns</p>\n",
       "</div>"
      ],
      "text/plain": [
       "            batter_name  balls  strikes\n",
       "0           Ketel Marte      2        2\n",
       "1           Ketel Marte      1        2\n",
       "2           Ketel Marte      1        1\n",
       "3           Ketel Marte      1        0\n",
       "4           Ketel Marte      0        0\n",
       "...                 ...    ...      ...\n",
       "1431874  Bobby Witt Jr.      0        1\n",
       "1431875  Bobby Witt Jr.      0        0\n",
       "1431876      Tommy Pham      1        1\n",
       "1431877      Tommy Pham      0        1\n",
       "1431878      Tommy Pham      0        0\n",
       "\n",
       "[873734 rows x 3 columns]"
      ]
     },
     "execution_count": 21,
     "metadata": {},
     "output_type": "execute_result"
    }
   ],
   "source": [
    "df[[\"batter_name\",'balls', 'strikes']]"
   ]
  },
  {
   "cell_type": "code",
   "execution_count": null,
   "id": "6435b87a",
   "metadata": {},
   "outputs": [],
   "source": []
  },
  {
   "cell_type": "code",
   "execution_count": null,
   "id": "eb4eafc2",
   "metadata": {},
   "outputs": [],
   "source": []
  }
 ],
 "metadata": {
  "kernelspec": {
   "display_name": "Python 3 (ipykernel)",
   "language": "python",
   "name": "python3"
  },
  "language_info": {
   "codemirror_mode": {
    "name": "ipython",
    "version": 3
   },
   "file_extension": ".py",
   "mimetype": "text/x-python",
   "name": "python",
   "nbconvert_exporter": "python",
   "pygments_lexer": "ipython3",
   "version": "3.11.4"
  }
 },
 "nbformat": 4,
 "nbformat_minor": 5
}
